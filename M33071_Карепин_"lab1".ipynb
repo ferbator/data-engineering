{
  "nbformat": 4,
  "nbformat_minor": 0,
  "metadata": {
    "colab": {
      "provenance": [],
      "include_colab_link": true
    },
    "kernelspec": {
      "display_name": "Python 3",
      "language": "python",
      "name": "python3"
    },
    "language_info": {
      "codemirror_mode": {
        "name": "ipython",
        "version": 3
      },
      "file_extension": ".py",
      "mimetype": "text/x-python",
      "name": "python",
      "nbconvert_exporter": "python",
      "pygments_lexer": "ipython3",
      "version": "3.7.4"
    }
  },
  "cells": [
    {
      "cell_type": "markdown",
      "metadata": {
        "id": "view-in-github",
        "colab_type": "text"
      },
      "source": [
        "<a href=\"https://colab.research.google.com/github/ferbator/data-engineering/blob/main/M33071_%D0%9A%D0%B0%D1%80%D0%B5%D0%BF%D0%B8%D0%BD_%22lab1%22.ipynb\" target=\"_parent\"><img src=\"https://colab.research.google.com/assets/colab-badge.svg\" alt=\"Open In Colab\"/></a>"
      ]
    },
    {
      "cell_type": "markdown",
      "metadata": {
        "id": "BsNwjQDRfmLY"
      },
      "source": [
        "# Задание 1"
      ]
    },
    {
      "cell_type": "markdown",
      "metadata": {
        "id": "wu6r1-s7fmLe"
      },
      "source": [
        "---"
      ]
    },
    {
      "cell_type": "markdown",
      "metadata": {
        "id": "zxRIdPO9gYyX"
      },
      "source": [
        "Напишите программу, которая будет решать систему линейных уравнений вида:\n",
        "\n",
        "\\begin{matrix} a_{11}x+a_{12}y=b_{1}&(1) \\\\ a_{21}x+a_{22}y=b_{2} &(2) \\end{matrix}\n",
        "​\t\n",
        "На вход программа должна принимать 2 строки.\n",
        "\n",
        "Каждая строка содержит 3 действительных числа через пробел: коэффициенты a и b.\n",
        "\n",
        "На выходе программа должна выдавать значения x и y в одну строку через пробел.\n",
        " \n",
        "\n",
        "Примечание 1. Для разделения строки на отдельные элементы используйте функцию split()\n",
        "\n",
        "Примечание 2. В качестве разделителя между целой и дробной частью используйте точку, например 0.2"
      ]
    },
    {
      "cell_type": "code",
      "source": [
        "import numpy as np\n",
        "import matplotlib.pyplot as plt\n",
        "import plotly.express as px\n",
        "import matplotlib.ticker as ticker"
      ],
      "metadata": {
        "id": "VaCAhaENZUNq"
      },
      "execution_count": null,
      "outputs": []
    },
    {
      "cell_type": "code",
      "metadata": {
        "id": "6sxlcLbVlrjl"
      },
      "source": [
        "def linan(a, v):\n",
        "  if (detA != 0):\n",
        "    x = np.linalg.solve(a, v)\n",
        "    tmp = np.linspace(x[0] - 1, x[0] + 1.25, 100)\n",
        "    print(x)\n",
        "    plt.plot(tmp, (b1 - a11 * tmp)/a12)\n",
        "    plt.plot(tmp, (b2 - a21 * tmp)/a22)\n",
        "    plt.scatter(x[0], x[1], color='red', s=40, marker='o')\n",
        "    plt.grid()\n",
        "  elif (a11 / a21 + a12 / a22 == (2 * b1 / b2)):\n",
        "    print(\"Решений бесконечно много\")\n",
        "    x = np.linspace(-10, 10, 100)\n",
        "    plt.plot(x, (b1 - a11 * x)/a12)\n",
        "    plt.plot(x, (b2 - a21 * x)/a22)\n",
        "    plt.grid()\n",
        "  else:\n",
        "    x = np.linspace(-10, 10, 100)\n",
        "    plt.plot(x, (b1 - a11 * x)/a12)\n",
        "    plt.plot(x, (b2 - a21 * x)/a22)\n",
        "    print(\"Решений нет\")\n",
        "    plt.grid()"
      ],
      "execution_count": null,
      "outputs": []
    },
    {
      "cell_type": "code",
      "source": [
        "a11, a12, b1 = map(float, input().split())\n",
        "a21, a22, b2 = map(float, input().split())"
      ],
      "metadata": {
        "id": "78xkeLBpZhj4",
        "colab": {
          "base_uri": "https://localhost:8080/"
        },
        "outputId": "6884c911-0a78-4414-ddcd-ef622230b553"
      },
      "execution_count": null,
      "outputs": [
        {
          "name": "stdout",
          "output_type": "stream",
          "text": [
            "1 2 3\n",
            "1 2 3\n"
          ]
        }
      ]
    },
    {
      "cell_type": "code",
      "source": [
        "a = np.array([[a11, a12], [a21, a22]], dtype=np.float64)\n",
        "v = np.array([b1, b2], dtype=np.float64)\n",
        "detA = np.linalg.det(a)\n",
        "linan(a, v)"
      ],
      "metadata": {
        "id": "mHjdoDNOZiXt",
        "colab": {
          "base_uri": "https://localhost:8080/"
        },
        "outputId": "e301e0b7-842e-4417-e9df-e5c4b103c9b1"
      },
      "execution_count": null,
      "outputs": [
        {
          "output_type": "stream",
          "name": "stdout",
          "text": [
            "Решений бесконечно много\n"
          ]
        },
        {
          "output_type": "display_data",
          "data": {
            "text/plain": [
              "<Figure size 432x288 with 1 Axes>"
            ],
            "image/png": "[encoded data removed]"
          },
          "metadata": {
            "needs_background": "light"
          }
        }
      ]
    },
    {
      "cell_type": "markdown",
      "metadata": {
        "id": "wLoVDMQnfmOv"
      },
      "source": [
        "# Задание 2"
      ]
    },
    {
      "cell_type": "markdown",
      "metadata": {
        "id": "6bmt_YF3fmOw"
      },
      "source": [
        "Напишите функцию `decorate_matrix`, которая получает на вход одно целое число больше единицы. Функция должна возвращать матрицу n на n, у которой на границах стоят единицы, а на всех остальных позициях(если остались позиции не на границах) стоят нули.\n",
        "\n",
        "Нужно сделать без использования  циклов.\n",
        "\n",
        "```\n",
        "# ожидаемый резальтат для аргумента 5\n",
        "array([[1., 1., 1., 1., 1.],\n",
        "[1., 0., 0., 0., 1.],\n",
        "[1., 0., 0., 0., 1.],\n",
        "[1., 0., 0., 0., 1.],\n",
        "[1., 1., 1., 1., 1.]])\n",
        "```\n",
        "\n"
      ]
    },
    {
      "cell_type": "code",
      "source": [
        "def decorate_matrix(n):\n",
        "  b = np.zeros([n, n])\n",
        "  b = np.pad(b, 1, \"constant\", constant_values = 1)\n",
        "  return b"
      ],
      "metadata": {
        "id": "HHnP2hUnbInf"
      },
      "execution_count": null,
      "outputs": []
    },
    {
      "cell_type": "code",
      "source": [
        "decorate_matrix(5)"
      ],
      "metadata": {
        "colab": {
          "base_uri": "https://localhost:8080/"
        },
        "id": "oBKF6JLihnBZ",
        "outputId": "623ea994-f744-4bf0-92c9-acf5ec527a74"
      },
      "execution_count": null,
      "outputs": [
        {
          "output_type": "execute_result",
          "data": {
            "text/plain": [
              "array([[1., 1., 1., 1., 1., 1., 1.],\n",
              "       [1., 0., 0., 0., 0., 0., 1.],\n",
              "       [1., 0., 0., 0., 0., 0., 1.],\n",
              "       [1., 0., 0., 0., 0., 0., 1.],\n",
              "       [1., 0., 0., 0., 0., 0., 1.],\n",
              "       [1., 0., 0., 0., 0., 0., 1.],\n",
              "       [1., 1., 1., 1., 1., 1., 1.]])"
            ]
          },
          "metadata": {},
          "execution_count": 13
        }
      ]
    },
    {
      "cell_type": "markdown",
      "metadata": {
        "id": "75sxny1zSCbl"
      },
      "source": [
        "# Задание 3"
      ]
    },
    {
      "cell_type": "markdown",
      "metadata": {
        "id": "2Xq1tBBAS5UJ"
      },
      "source": [
        "1) реализуйте 2 функции:\n",
        "\n",
        "$f(x) = (x+a)^2 - b$ \n",
        "\n",
        "$g(x) = |f(x)|$\n",
        "\n",
        "2) Найдите аргументы, при которых достигается минимум функций $f(x)$ и $g(x)$\n",
        "\n",
        "Пример. \n",
        "Входные значение: $a=3$ и $b=4$\n",
        "\n",
        "Выходные значения:\n",
        "\n",
        "`-3.0 -1.0`"
      ]
    },
    {
      "cell_type": "code",
      "source": [
        "a, b = map(float, input().split())"
      ],
      "metadata": {
        "colab": {
          "base_uri": "https://localhost:8080/"
        },
        "id": "b1ftL0r3iroX",
        "outputId": "19e6443a-4384-4af0-fea3-e925e5fc397e"
      },
      "execution_count": null,
      "outputs": [
        {
          "name": "stdout",
          "output_type": "stream",
          "text": [
            "3 4\n"
          ]
        }
      ]
    },
    {
      "cell_type": "code",
      "source": [
        "def f(x):\n",
        "  return (x + a)**2 - b"
      ],
      "metadata": {
        "id": "ub3ykFYGikmD"
      },
      "execution_count": null,
      "outputs": []
    },
    {
      "cell_type": "code",
      "source": [
        "def g(x):\n",
        "  return np.abs(f(x))"
      ],
      "metadata": {
        "id": "WJs8rk1_ikQu"
      },
      "execution_count": null,
      "outputs": []
    },
    {
      "cell_type": "code",
      "source": [
        "x0 = -a\n",
        "print(x0)"
      ],
      "metadata": {
        "colab": {
          "base_uri": "https://localhost:8080/"
        },
        "id": "LiX_SPSrhQLY",
        "outputId": "c464befc-349c-4195-c3bc-d246da946c8a"
      },
      "execution_count": null,
      "outputs": [
        {
          "output_type": "stream",
          "name": "stdout",
          "text": [
            "-3.0\n"
          ]
        }
      ]
    },
    {
      "cell_type": "code",
      "source": [
        "x01 = 0\n",
        "x02 = 0\n",
        "if b >= 0:\n",
        "  x01 = -a + np.sqrt(b)\n",
        "  x02 = -a - np.sqrt(b)\n",
        "  print(x01, x02)\n",
        "else:\n",
        "  print(x0)"
      ],
      "metadata": {
        "colab": {
          "base_uri": "https://localhost:8080/"
        },
        "id": "cQwYKs3lhSJ5",
        "outputId": "168ed0ac-5679-4eb7-de93-a522ba0ee9cd"
      },
      "execution_count": null,
      "outputs": [
        {
          "output_type": "stream",
          "name": "stdout",
          "text": [
            "-1.0 -5.0\n"
          ]
        }
      ]
    },
    {
      "cell_type": "markdown",
      "metadata": {
        "id": "efml9GzISC9Q"
      },
      "source": [
        "# Задание 4"
      ]
    },
    {
      "cell_type": "markdown",
      "metadata": {
        "id": "SDZvKcsTVbAW"
      },
      "source": [
        "Постройте графики для функций из предыдущего задания и отметьте другим цветом на графиках точки найденных минимумов."
      ]
    },
    {
      "cell_type": "code",
      "source": [
        "x = np.linspace(-a - 10, -a + 10, 100)\n",
        "plt.plot(x, f(x))\n",
        "plt.grid()\n",
        "plt.ylabel(\"Y\")\n",
        "plt.xlabel(\"X\")\n",
        "plt.scatter(x0, f(x0), c = \"red\")"
      ],
      "metadata": {
        "colab": {
          "base_uri": "https://localhost:8080/",
          "height": 298
        },
        "id": "uGP4O9j2jHNV",
        "outputId": "5fc80f36-9db6-4030-de4a-131c0153f58c"
      },
      "execution_count": null,
      "outputs": [
        {
          "output_type": "execute_result",
          "data": {
            "text/plain": [
              "<matplotlib.collections.PathCollection at 0x7ff50a106c50>"
            ]
          },
          "metadata": {},
          "execution_count": 22
        },
        {
          "output_type": "display_data",
          "data": {
            "text/plain": [
              "<Figure size 432x288 with 1 Axes>"
            ],
            "image/png": "[encoded data removed]"
          },
          "metadata": {
            "needs_background": "light"
          }
        }
      ]
    },
    {
      "cell_type": "code",
      "source": [
        "plt.plot(x, g(x))\n",
        "plt.grid()\n",
        "plt.ylabel(\"Y\")\n",
        "plt.xlabel(\"X\")\n",
        "if b>=0:\n",
        "  plt.scatter(x01, g(x01), c = \"red\")\n",
        "  plt.scatter(x02, g(x02), c = \"red\")\n",
        "else:\n",
        "  plt.scatter(x0, g(x0), c = \"red\")"
      ],
      "metadata": {
        "colab": {
          "base_uri": "https://localhost:8080/",
          "height": 282
        },
        "id": "s8KCtGPBjmGV",
        "outputId": "013532db-2ab2-480d-f1ce-24cd363d9fe8"
      },
      "execution_count": null,
      "outputs": [
        {
          "output_type": "display_data",
          "data": {
            "text/plain": [
              "<Figure size 432x288 with 1 Axes>"
            ],
            "image/png": "[encoded data removed]"
          },
          "metadata": {
            "needs_background": "light"
          }
        }
      ]
    },
    {
      "cell_type": "markdown",
      "metadata": {
        "id": "mrby3EfiSDKJ"
      },
      "source": [
        "# Задание 5"
      ]
    },
    {
      "cell_type": "markdown",
      "metadata": {
        "id": "J6AZ8785VkQd"
      },
      "source": [
        "1000 человек бросают монетку. Каждый бросил 10 раз подряд.\n",
        "\n",
        " 1. Какова вероятность того, что хотя бы у одного человека монетка выпала 10 раз подряд той же самой стороной (орлом или решкой)? \n",
        " 2. Какова вероятность того, что хотя бы у одного человека монетка выпала 8 раз подряд той же самой стороной (орлом или решкой)? \n",
        " 3. Какова вероятность того, что ровно у троих человек из 1000 монетка выпала 10 раз подряд той же самой стороной (орлом или решкой)?"
      ]
    },
    {
      "cell_type": "markdown",
      "source": [
        "2/2^10 - это вероятность выпадения 10 одинаковых сторон монеты при 10 бросках у одного человека. "
      ],
      "metadata": {
        "id": "6t5ghQQpf5IV"
      }
    },
    {
      "cell_type": "code",
      "source": [
        "P1 = 1 - (1 - 2 / 2**10)**1000\n",
        "print(P1)"
      ],
      "metadata": {
        "colab": {
          "base_uri": "https://localhost:8080/"
        },
        "id": "7WZYAZyYoXBH",
        "outputId": "eb128033-22d2-43f3-d435-b25f3a6d51b7"
      },
      "execution_count": null,
      "outputs": [
        {
          "output_type": "stream",
          "name": "stdout",
          "text": [
            "0.858440454732242\n"
          ]
        }
      ]
    },
    {
      "cell_type": "markdown",
      "source": [
        "10 - это число благоприятных исходов из 2^10 возможных"
      ],
      "metadata": {
        "id": "sNXih_mObpv6"
      }
    },
    {
      "cell_type": "code",
      "source": [
        "P2 = 1 - (1 - 10 / 2**10)**1000\n",
        "print(P2)"
      ],
      "metadata": {
        "colab": {
          "base_uri": "https://localhost:8080/"
        },
        "id": "jbuaw9CcrQE7",
        "outputId": "56af343b-0529-4336-cf9e-fed0071aa598"
      },
      "execution_count": null,
      "outputs": [
        {
          "output_type": "stream",
          "name": "stdout",
          "text": [
            "0.9999452986105908\n"
          ]
        }
      ]
    },
    {
      "cell_type": "code",
      "source": [
        "from scipy.special import comb\n",
        "\n",
        "P3 = comb(1000, 3) * (1 - 2 / 2**10)**997 * (2 / 2**10)**3 \n",
        "print(P3)"
      ],
      "metadata": {
        "id": "yutqu-SErToI",
        "outputId": "3ad91408-8bef-4aa6-c64e-df3b9a19f3af",
        "colab": {
          "base_uri": "https://localhost:8080/"
        }
      },
      "execution_count": null,
      "outputs": [
        {
          "output_type": "stream",
          "name": "stdout",
          "text": [
            "0.1762873858121736\n"
          ]
        }
      ]
    }
  ]
}