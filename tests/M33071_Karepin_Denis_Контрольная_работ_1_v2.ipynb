{
  "nbformat": 4,
  "nbformat_minor": 0,
  "metadata": {
    "kernelspec": {
      "display_name": "Python 3",
      "language": "python",
      "name": "python3"
    },
    "language_info": {
      "codemirror_mode": {
        "name": "ipython",
        "version": 3
      },
      "file_extension": ".py",
      "mimetype": "text/x-python",
      "name": "python",
      "nbconvert_exporter": "python",
      "pygments_lexer": "ipython3",
      "version": "3.6.5"
    },
    "toc": {
      "base_numbering": 1,
      "nav_menu": {},
      "number_sections": true,
      "sideBar": true,
      "skip_h1_title": false,
      "title_cell": "Table of Contents",
      "title_sidebar": "Contents",
      "toc_cell": false,
      "toc_position": {},
      "toc_section_display": true,
      "toc_window_display": false
    },
    "colab": {
      "provenance": [],
      "collapsed_sections": [
        "pJyxgxErLqbg",
        "y8BB5t5DLqb8",
        "RQS6gBO1Lqc5"
      ],
      "include_colab_link": true
    }
  },
  "cells": [
    {
      "cell_type": "markdown",
      "metadata": {
        "id": "view-in-github",
        "colab_type": "text"
      },
      "source": [
        "<a href=\"https://colab.research.google.com/github/ferbator/data-engineering/blob/main/tests/M33071_Karepin_Denis_%D0%9A%D0%BE%D0%BD%D1%82%D1%80%D0%BE%D0%BB%D1%8C%D0%BD%D0%B0%D1%8F_%D1%80%D0%B0%D0%B1%D0%BE%D1%82_1_v2.ipynb\" target=\"_parent\"><img src=\"https://colab.research.google.com/assets/colab-badge.svg\" alt=\"Open In Colab\"/></a>"
      ]
    },
    {
      "cell_type": "markdown",
      "metadata": {
        "id": "LYKqDli0Lqas"
      },
      "source": [
        "# Рубежная контрольная работа\n",
        "\n",
        "*Эту работу выполнять не обязательно. Баллы, набранные за эту контрольную работу просуммируются с баллами, которые будут набраны за контрольную работу 2 и выставлены как оценка за экзамен \"автоматом\". Если вы не выполните эту работу, переписать её будет невозможно, просто приходите на экзамен и добирайте баллы там.*"
      ]
    },
    {
      "cell_type": "markdown",
      "metadata": {
        "id": "Cdt8kOfu4K3x"
      },
      "source": [
        "Сделайте копию ноутбука\n",
        "\n",
        "Присвойте переменной `v` значение свой табельный номер ИСУ, это нужно для определения вашего варианта. Запустите код в следующей ячейке."
      ]
    },
    {
      "cell_type": "code",
      "metadata": {
        "id": "38Ryn8pjvYqb",
        "colab": {
          "base_uri": "https://localhost:8080/"
        },
        "outputId": "f47297d0-0f69-4678-be2f-48f5aa6ae20f"
      },
      "source": [
        "from datetime import datetime\n",
        "current_datetime = datetime.now()\n",
        "print(current_datetime)\n",
        "v = 311446 # по умолчанию вписан мой номер"
      ],
      "execution_count": null,
      "outputs": [
        {
          "output_type": "stream",
          "name": "stdout",
          "text": [
            "2022-10-26 08:51:31.675422\n"
          ]
        }
      ]
    },
    {
      "cell_type": "markdown",
      "metadata": {
        "id": "Qr0CAgObPOv7"
      },
      "source": [
        "## Описание метрического алгоритма"
      ]
    },
    {
      "cell_type": "markdown",
      "metadata": {
        "id": "OFP_i1F1Lqay"
      },
      "source": [
        "Пусть задана обучающая выборка пар \"объект-ответ\" $X^m = \\{(x_1,y_1),\\dots,(x_m,y_m)\\}.$\n",
        "\n",
        "Пусть на множестве объектов задана функция расстояния $\\rho(x,x')$. Чем больше значение этой функции, тем менее схожими являются два объекта $x, x'$. \n",
        "В простейшем случае используется евклидова метрика: $\\rho(x,x') = \\sqrt {\\sum _{i=1}^{n}(x_{i}-x'_{i})^{2}}$,\n",
        "\n",
        "Для произвольного объекта $u$ расположим объекты обучающей выборки $x_i$ в порядке возрастания расстояний до $u$:\n",
        "\n",
        "$$\\rho(u,x_{1; u}) \\leq  \\rho(u,x_{2; u}) \\leq \\cdots \\leq \\rho(u,x_{m; u}),$$\n",
        "где через $x_{i; u}$ обозначается тот объект обучающей выборки, который является $i$-м соседом объекта $u$. Аналогичное обозначение введём и для ответа на $i$-м соседе: $y_{i; u}$. Таким образом, произвольный объект $u$ порождает свою перенумерацию выборки. В наиболее общем виде алгоритм ближайших соседей есть:\n",
        "$$a(u) = \\mathrm{arg}\\max_{y\\in Y} \\sum_{i=1}^m \\bigl[ y_{i; u}=y \\bigr] w(i,u),$$\n",
        "где $w(i,u)$ - заданная весовая функция, которая оценивает степень важности $i$-го соседа для классификации объекта $u$. Естественно полагать, что эта функция не отрицательна и не возрастает по $i$ (поскольку чем дальше объект, тем меньший вклад он должен вносить в пользу своего класса).\n",
        "\n",
        "По-разному задавая весовую функцию, можно получать различные варианты метода ближайших соседей.\n",
        "\n",
        "$w(i,u) = [i=1]$ - простейший метод ближайшего соседа;\n",
        "\n",
        "$w(i,u) = [i\\leq k]$ - метод $k$ ближайших соседей;\n",
        "\n",
        "$w(i,u) = [i\\leq k] q^i$ - метод $k$ экспоненциально взвешенных ближайших соседей, где предполагается константа $q < 1$\n",
        "\n",
        "\n"
      ]
    },
    {
      "cell_type": "markdown",
      "metadata": {
        "id": "9O9wv47JPzIf"
      },
      "source": [
        "**Использование ядер сглаживания**\n",
        "\n",
        "Для избежания неоднозначности ответа при классификации в качестве весовой функции $w(i, u)$ используют функцию ядра $K(r)$\n",
        "\n",
        "Примеры ядер:\n",
        "\n",
        "Triangular: ${\\displaystyle K(r)=(1-|r|)}$,\n",
        "\n",
        "Parabolic: ${\\displaystyle K(r)={\\frac {3}{4}}(1-r^{2})}$,\n",
        "\n",
        "Tricube: ${\\displaystyle K(r)={\\frac {70}{81}}(1-{\\left|r\\right|}^{3})^{3}}$.\n",
        "\n",
        "**Метод парзеновского окна**\n",
        "\n",
        "Алгоритм $k$ ближайших соседей можно обобщить с помощью функции ядра. Рассмотрим два способа, которыми это можно сделать.\n",
        "\n",
        "Метод парзеновского окна фиксированной ширины  $h$:\n",
        "$$w(i,u) = K\\biggl(\\frac{\\rho(u,x_{i; u})}{h}\\biggr)$$\n",
        "\n",
        "Метод парзеновского окна переменной ширины:\n",
        "$$w(i,u) = K\\biggl(\\frac{\\rho(u,x_{i; u})}{\\rho(u,x_{k+1; u})}\\biggr)$$\n",
        "\n",
        "Таким образом классификаторы, полученные при использовании этих методов, можно записать в следующем виде\n",
        "\n",
        "Фиксированной ширины: $$a_h = a(u, X^m, \\boldsymbol{h}, K) = \\mathrm{arg}\\max_{y\\in Y} \\sum_{i=1}^m \\bigl[ y_{i; u}=y \\bigr] K\\biggl(\\frac{\\rho(u,x_{i; u})}{h}\\biggr)$$\n",
        "\n",
        "Переменной ширины (фиксированное число соседей): \n",
        "$$a_k = a(u, X^m, \\boldsymbol{k}, K) = \\mathrm{arg}\\max_{y\\in Y} \\sum_{i=1}^m \\bigl[ y_{i; u}=y \\bigr] K\\biggl(\\frac{\\rho(u,x_{i; u})}{\\rho(u,x_{k+1; u})}\\biggr)$$\n"
      ]
    },
    {
      "cell_type": "markdown",
      "metadata": {
        "id": "QChjKJIRPWty"
      },
      "source": [
        "# Задание 1 (7 баллов)\n",
        "\n",
        "В задании требуется написать свою реализацию метрического алгоритма. \n",
        "\n",
        "В качестве расстояния между объектами в этом задании используйте евклидово расстояние. \n",
        "\n",
        "В качестве функции ядра используйте Triangular."
      ]
    },
    {
      "cell_type": "markdown",
      "source": [
        "Triangular: ${\\displaystyle K(r)=(1-|r|)}$,"
      ],
      "metadata": {
        "id": "MQz5e4cnhivM"
      }
    },
    {
      "cell_type": "markdown",
      "metadata": {
        "id": "F57T22yav-gp"
      },
      "source": [
        "Для выбора варианта, запустите код в следующей ячейке\n",
        "\n"
      ]
    },
    {
      "cell_type": "code",
      "metadata": {
        "id": "zFcuNXzcwMbH",
        "colab": {
          "base_uri": "https://localhost:8080/"
        },
        "outputId": "19bbda73-df1e-4de9-fdda-0f26fe705014"
      },
      "source": [
        "if (int(str(v)[4]) % 2) == 0:\n",
        "  print ('1.1 В алгоритме число соседей должно быть фиксированным. Настроить гиперпараметр k, для оценки качества использовать ROC-AUC')\n",
        "else:\n",
        "  print ('1.1 В алгоритме число соседей не должно быть фиксированным. Настроить гиперпараметр h (ширина окна), для оценки качества использовать использовать F1-меру')\n",
        "\n",
        "if (int(str(v)[4]) % 2) == 0:\n",
        "  print ('1.2 Построить график зависимости метрики качества на обучающей выборке от k')\n",
        "else: \n",
        "  print ('1.2 Построить график зависимости метрики качества на контрольной выборке от h')"
      ],
      "execution_count": null,
      "outputs": [
        {
          "output_type": "stream",
          "name": "stdout",
          "text": [
            "1.1 В алгоритме число соседей должно быть фиксированным. Настроить гиперпараметр k, для оценки качества использовать ROC-AUC\n",
            "1.2 Построить график зависимости метрики качества на обучающей выборке от k\n"
          ]
        }
      ]
    },
    {
      "cell_type": "markdown",
      "metadata": {
        "id": "ms_1FH-3S_7E"
      },
      "source": [
        "Протестирйуте эту реализацию на наборе данных breast_cancer:\n",
        "\n",
        "https://scikit-learn.org/stable/modules/generated/sklearn.datasets.load_breast_cancer.html"
      ]
    },
    {
      "cell_type": "code",
      "metadata": {
        "id": "gHGUZu8rLqa8"
      },
      "source": [
        "from sklearn.datasets import load_breast_cancer\n",
        "data = load_breast_cancer()"
      ],
      "execution_count": null,
      "outputs": []
    },
    {
      "cell_type": "markdown",
      "source": [
        "Может потребоваться предобработка данных"
      ],
      "metadata": {
        "id": "-FjuFgFs3kDw"
      }
    },
    {
      "cell_type": "markdown",
      "metadata": {
        "id": "XL9H9vXATHcc"
      },
      "source": [
        "Штрафы:\n",
        "* отсутствие реализации алгоритма (4 балла)\n",
        "* ошибки в реализации алгоритма (2 балла)\n",
        "* отсутствие настройки гиперпараметра (2 балла)\n",
        "* ошибки в настройке гиперпараметра (1 балл)\n",
        "* отсутствие графика (1 балл)"
      ]
    },
    {
      "cell_type": "code",
      "source": [
        "import pandas as pd\n",
        "import numpy as np\n",
        "from sklearn.model_selection import train_test_split\n",
        "from sklearn.preprocessing import StandardScaler"
      ],
      "metadata": {
        "id": "aB4bRF2sgHpm"
      },
      "execution_count": null,
      "outputs": []
    },
    {
      "cell_type": "code",
      "source": [
        "X = pd.DataFrame(data['data'], columns=data['feature_names'])\n",
        "y = pd.DataFrame(data['target'])\n",
        "\n",
        "X_train, X_test, y_train, y_test = train_test_split(X, y, random_state=0)\n",
        "\n",
        "scaler = StandardScaler()\n",
        "X_train = pd.DataFrame(scaler.fit_transform(X_train))\n",
        "X_test = pd.DataFrame(scaler.transform(X_test))"
      ],
      "metadata": {
        "id": "MJxwIFZdfzzd"
      },
      "execution_count": null,
      "outputs": []
    },
    {
      "cell_type": "code",
      "source": [
        "def calculate_kernel(r):\n",
        "  return (1 - np.abs(r))"
      ],
      "metadata": {
        "id": "ZlafeJZ-mIPF"
      },
      "execution_count": null,
      "outputs": []
    },
    {
      "cell_type": "code",
      "source": [
        "def classifyKNN(k, X_train, y_train, X_test):\n",
        "  result = []\n",
        "  for i in range(X_test.shape[0]):\n",
        "    dist_y = []\n",
        "    for j in range(X_train[0].shape[0]):\n",
        "      dist_y.append(\n",
        "          (np.linalg.norm(X_test.iloc[i].values -  X_train.iloc[j].values), \n",
        "                    y_train.iloc[j].values[0]))\n",
        "    dist_y.sort()\n",
        "    nearest_neighbors = dist_y[:k + 1]\n",
        "    kernel = [(calculate_kernel(pair[0] / nearest_neighbors[k][0]), pair[1]) \n",
        "    for pair in nearest_neighbors][:-1]\n",
        "\n",
        "    good = 0\n",
        "    bad = 0\n",
        "\n",
        "    for pair in kernel:\n",
        "      if pair[1] == 0:\n",
        "        bad += pair[0]\n",
        "      else:\n",
        "        good += pair[0]\n",
        "\n",
        "    if bad > good:\n",
        "      result.append(0)\n",
        "    else:\n",
        "      result.append(1)\n",
        "\n",
        "  return result"
      ],
      "metadata": {
        "id": "Br_zmamVglU5"
      },
      "execution_count": null,
      "outputs": []
    },
    {
      "cell_type": "code",
      "source": [
        "result = classifyKNN(15, X_train, y_train, X_test)"
      ],
      "metadata": {
        "id": "UAFTGW7Pnyz-"
      },
      "execution_count": null,
      "outputs": []
    },
    {
      "cell_type": "code",
      "source": [
        "from sklearn.metrics import roc_auc_score\n",
        "\n",
        "print(roc_auc_score(y_test, result))"
      ],
      "metadata": {
        "colab": {
          "base_uri": "https://localhost:8080/"
        },
        "id": "r1cGQlSPouIZ",
        "outputId": "2242ef36-6fb6-460b-e0d7-8d16f2c73e06"
      },
      "execution_count": null,
      "outputs": [
        {
          "output_type": "stream",
          "name": "stdout",
          "text": [
            "0.9472746331236898\n"
          ]
        }
      ]
    },
    {
      "cell_type": "code",
      "source": [
        "import matplotlib.pyplot as plt"
      ],
      "metadata": {
        "id": "aV6DxQmHqy_1"
      },
      "execution_count": null,
      "outputs": []
    },
    {
      "cell_type": "code",
      "source": [
        "for i in (5, 10, 14, 20, 30, 38):\n",
        "    result = classifyKNN(i, X_train, y_train, X_test)\n",
        "    plt.scatter(i, roc_auc_score(y_test, result), color='r')\n",
        "plt.show()"
      ],
      "metadata": {
        "colab": {
          "base_uri": "https://localhost:8080/",
          "height": 265
        },
        "id": "jT1AfutPqw4t",
        "outputId": "eccfaded-d731-44c2-b40d-2de749590c42"
      },
      "execution_count": null,
      "outputs": [
        {
          "output_type": "display_data",
          "data": {
            "text/plain": [
              "<Figure size 432x288 with 1 Axes>"
            ],
            "image/png": "[encoded data removed]"
          },
          "metadata": {
            "needs_background": "light"
          }
        }
      ]
    },
    {
      "cell_type": "markdown",
      "metadata": {
        "id": "Mz4rsFhALqbJ"
      },
      "source": [
        "# Задание 2 (4 балла)"
      ]
    },
    {
      "cell_type": "markdown",
      "metadata": {
        "id": "EHdzuZj-3dsF"
      },
      "source": [
        "Требуется реализовать метрический алгоритм для предсказания действительного числа (то есть как в задаче регрессии, а не как в задаче классификации). \n",
        "\n",
        "В задании 2 не используйте ядра и метод парзеновского окна."
      ]
    },
    {
      "cell_type": "markdown",
      "metadata": {
        "id": "gOM9Kj8pLqbS"
      },
      "source": [
        "Во этом задании в качестве исходных данных используется словарь кинокритиков и выставленных ими оценок"
      ]
    },
    {
      "cell_type": "code",
      "metadata": {
        "id": "ENkh6Gr98Pit"
      },
      "source": [
        "critics={'Lisa Rose': {'Lady in the Water': 2.5, 'Snakes on a Plane': 3.5,\n",
        " 'Just My Luck': 3.0, 'Superman Returns': 3.5, 'You, Me and Dupree': 2.5, \n",
        " 'The Night Listener': 3.0},\n",
        "'Gene Seymour': {'Lady in the Water': 3.0, 'Snakes on a Plane': 3.5, \n",
        " 'Just My Luck': 1.5, 'Superman Returns': 5.0, 'The Night Listener': 3.0, \n",
        " 'You, Me and Dupree': 3.5}, \n",
        "'Michael Phillips': {'Lady in the Water': 2.5, 'Snakes on a Plane': 3.0,\n",
        " 'Superman Returns': 3.5, 'The Night Listener': 4.0},\n",
        "'Claudia Puig': {'Snakes on a Plane': 3.5, 'Just My Luck': 3.0,\n",
        " 'The Night Listener': 4.5, 'Superman Returns': 4.0, \n",
        " 'You, Me and Dupree': 2.5},\n",
        "'Mick LaSalle': {'Lady in the Water': 3.0, 'Snakes on a Plane': 4.0, \n",
        " 'Just My Luck': 2.0, 'Superman Returns': 3.0, 'The Night Listener': 3.0,\n",
        " 'You, Me and Dupree': 2.0}, \n",
        "'Jack Matthews': {'Lady in the Water': 3.0, 'Snakes on a Plane': 4.0,\n",
        " 'The Night Listener': 3.0, 'Superman Returns': 5.0, 'You, Me and Dupree': 3.5},\n",
        "'Toby': {'Snakes on a Plane':4.5,'You, Me and Dupree':1.0,'Superman Returns':4.0}}"
      ],
      "execution_count": null,
      "outputs": []
    },
    {
      "cell_type": "markdown",
      "metadata": {
        "id": "MVfEyvFj019l"
      },
      "source": [
        "По этому словарю нужно сделать Dataframe в pandas. Строки это критики, столбцы - названия фильмов. На пересечении поставленные оценки. При отсуствии оценки у критика за фильм в датафрейме нужно поставить 0."
      ]
    },
    {
      "cell_type": "markdown",
      "metadata": {
        "id": "xakj7Hul1jMp"
      },
      "source": [
        "Для выбора варианта, запустите код в следующей ячейке"
      ]
    },
    {
      "cell_type": "code",
      "metadata": {
        "id": "fvyYCARr1gLt"
      },
      "source": [
        "if (int(str(v)[3]) % 2) == 0:\n",
        "  print ('2.1 Сделайте предсказание оценок для критика Toby по фильмам, которые он ещё не видел')\n",
        "else:\n",
        "  print ('2.1 Сделайте предсказание оценок для фильма You, Me and Dupree по критикам, которые его ещё не видели')\n",
        "print ('2.2 Объясните как оценить качество полученного предказания')"
      ],
      "execution_count": null,
      "outputs": []
    },
    {
      "cell_type": "markdown",
      "metadata": {
        "id": "1lBTspUZFqWL"
      },
      "source": [
        "Штрафы:\n",
        "* отсутствие реализации алгоритма (2 балла)\n",
        "* ошибки в реализации алгоритма (1 балл)\n",
        "* отсутствие тестирования алгоритма (1 балл)\n",
        "* отсутствие объяснения оценки качества алгоритма (1 балл)"
      ]
    },
    {
      "cell_type": "markdown",
      "metadata": {
        "id": "v_oFki5H3_vy"
      },
      "source": [
        "После завершения контрольной работы, дайте ссылку на ноутбук в отдельном followup в своей теме на Piazza. Дайте разрешение на его просмотр.\n",
        "\n",
        "Не забудьте запустить код в последней ячейке для контроля времени выполнения."
      ]
    },
    {
      "cell_type": "code",
      "metadata": {
        "id": "HncJvMmo35Kv",
        "colab": {
          "base_uri": "https://localhost:8080/"
        },
        "outputId": "035d88b7-b7e8-46e9-9e89-e7c1e32c33b7"
      },
      "source": [
        "current_datetime = datetime.now()\n",
        "print(current_datetime)"
      ],
      "execution_count": null,
      "outputs": [
        {
          "output_type": "stream",
          "name": "stdout",
          "text": [
            "2022-10-26 10:01:38.908528\n"
          ]
        }
      ]
    }
  ]
}